{
 "cells": [
  {
   "cell_type": "code",
   "execution_count": 9,
   "metadata": {},
   "outputs": [],
   "source": [
    "from dotenv import load_dotenv\n",
    "import os\n",
    "\n",
    "from langchain_community.graphs import Neo4jGraph\n",
    "import openai\n",
    "\n",
    "# Initialize the OpenAI client\n",
    "\n",
    "# Warning control\n",
    "import warnings\n",
    "warnings.filterwarnings(\"ignore\")"
   ]
  },
  {
   "cell_type": "code",
   "execution_count": 15,
   "metadata": {},
   "outputs": [],
   "source": [
    "load_dotenv('.env', override=True)\n",
    "NEO4J_URI = os.getenv('NEO4J_URI')\n",
    "NEO4J_USERNAME = os.getenv('NEO4J_USERNAME')\n",
    "NEO4J_PASSWORD = os.getenv('NEO4J_PASSWORD')\n",
    "NEO4J_DATABASE = os.getenv('NEO4J_DATABASE')\n",
    "OPENAI_ENDPOINT = os.getenv('OPENAI_BASE_URL') + '/embeddings'\n",
    "OPENAI_API_KEY = os.getenv('OPENAI_API_KEY')\n",
    "openai.api_key = OPENAI_API_KEY\n"
   ]
  },
  {
   "cell_type": "code",
   "execution_count": 10,
   "metadata": {},
   "outputs": [],
   "source": [
    "graph = Neo4jGraph(\n",
    "    url=NEO4J_URI, username=NEO4J_USERNAME, password=NEO4J_PASSWORD\n",
    ")"
   ]
  },
  {
   "cell_type": "code",
   "execution_count": 45,
   "metadata": {},
   "outputs": [],
   "source": [
    "# functions\n",
    "def get_embedding(text):\n",
    "    response = openai.Embedding.create(\n",
    "        input=text,\n",
    "        engine=\"text-embedding-ada-002\"  # or any other available embedding model\n",
    "    )\n",
    "    return response['data'][0]['embedding']\n",
    "\n",
    "# Function to insert movies\n",
    "def insert_movies(graph, movies):\n",
    "    for movie in movies:\n",
    "        query = \"\"\"\n",
    "        CREATE (m:Movie {id: $id, title: $title, tagline: $tagline})\n",
    "        \"\"\"\n",
    "        params = {\n",
    "            \"id\": movie['id'],\n",
    "            \"title\": movie['movie'],\n",
    "            \"tagline\": movie['tagline']\n",
    "        }\n",
    "        graph.query(query, params=params)\n",
    "\n",
    "def insert_with_embedding(graph, movies, embeddings):\n",
    "    for movie in movies:\n",
    "        movie_id = movie['id']\n",
    "        embedding = embeddings[movie_id]\n",
    "        query = \"\"\"\n",
    "        CREATE (m:Movie {id: $id, title: $title, tagline: $tagline, taglineEmbedding: $embedding})\n",
    "        \"\"\"\n",
    "        params = {\n",
    "            \"id\": movie_id,\n",
    "            \"title\": movie['movie'],\n",
    "            \"tagline\": movie['tagline'],\n",
    "            \"embedding\": embedding\n",
    "        }\n",
    "        graph.query(query, params=params)\n",
    "\n",
    "# Function to update movies with embeddings\n",
    "def update_movie_embeddings(graph, movies, embeddings):\n",
    "    for movie in movies:\n",
    "        movie_id = movie['id']\n",
    "        embedding = embeddings[movie_id]\n",
    "        query = \"\"\"\n",
    "        MATCH (m:Movie) WHERE m.id = $id\n",
    "        SET m.taglineEmbedding = $embedding\n",
    "        \"\"\"\n",
    "        graph.query(query, params={\"id\": movie_id, \"embedding\": embedding})\n",
    "        \n",
    "def clean_all_movie_properties(graph):\n",
    "    query = \"\"\"\n",
    "    MATCH (m:Movie)\n",
    "    SET m = {}\n",
    "    \"\"\"\n",
    "    graph.query(query)\n",
    "    \n",
    "def clean_embedding_by_movie_id(graph, movie_id):\n",
    "    query = \"\"\"\n",
    "    MATCH (m:Movie) WHERE id(m) = $id\n",
    "    REMOVE m.taglineEmbedding\n",
    "    \"\"\"\n",
    "    graph.query(query, params={\"id\": movie_id})\n",
    "\n",
    "\n",
    "\"\"\"\n",
    "def search_movies_by_embedding(graph, embedding, top_k):\n",
    "    query = \n",
    "    CALL db.index.vector.queryNodes(\n",
    "        'movie_tagline_embeddings', \n",
    "        $embedding,\n",
    "        $top_k\n",
    "    ) YIELD node AS movie, score\n",
    "    RETURN movie.title, movie.tagline, score\n",
    "    \n",
    "    params = {\n",
    "        \"embedding\": embedding,\n",
    "        \"top_k\": top_k\n",
    "    }\n",
    "    return graph.query(query, params)\n",
    "\"\"\"\n",
    "def search_movies_by_embedding(graph, embedding, top_k):\n",
    "    query = \"\"\"\n",
    "    WITH $embedding AS query_vector\n",
    "    CALL db.index.vector.queryNodes('movie_tagline_embeddings', $top_k, query_vector)\n",
    "    YIELD node AS movie, score\n",
    "    RETURN movie.title, movie.tagline, score\n",
    "    \"\"\"\n",
    "    params = {\n",
    "        \"embedding\": embedding,  # This is your precomputed embedding vector\n",
    "        \"top_k\": top_k  # Number of nearest neighbors you want to retrieve\n",
    "    }\n",
    "    return graph.query(query, params)\n",
    "\n"
   ]
  },
  {
   "cell_type": "code",
   "execution_count": 11,
   "metadata": {},
   "outputs": [
    {
     "data": {
      "text/plain": [
       "[]"
      ]
     },
     "execution_count": 11,
     "metadata": {},
     "output_type": "execute_result"
    }
   ],
   "source": [
    "graph.query(\"\"\"\n",
    "  CREATE VECTOR INDEX movie_tagline_embeddings IF NOT EXISTS\n",
    "  FOR (m:Movie) ON (m.taglineEmbedding) \n",
    "  OPTIONS { indexConfig: {\n",
    "    `vector.dimensions`: 1536,\n",
    "    `vector.similarity_function`: 'cosine'\n",
    "  }}\"\"\"\n",
    ")"
   ]
  },
  {
   "cell_type": "code",
   "execution_count": 25,
   "metadata": {},
   "outputs": [
    {
     "data": {
      "text/plain": [
       "[{'id': 3,\n",
       "  'name': 'movie_tagline_embeddings',\n",
       "  'state': 'ONLINE',\n",
       "  'populationPercent': 100.0,\n",
       "  'type': 'VECTOR',\n",
       "  'entityType': 'NODE',\n",
       "  'labelsOrTypes': ['Movie'],\n",
       "  'properties': ['taglineEmbedding'],\n",
       "  'indexProvider': 'vector-2.0',\n",
       "  'owningConstraint': None,\n",
       "  'lastRead': None,\n",
       "  'readCount': 0}]"
      ]
     },
     "execution_count": 25,
     "metadata": {},
     "output_type": "execute_result"
    }
   ],
   "source": [
    "## start populate elements in the vector DB\n",
    "graph.query(\"\"\"\n",
    "  SHOW VECTOR INDEXES\n",
    "  \"\"\"\n",
    ")"
   ]
  },
  {
   "cell_type": "code",
   "execution_count": 21,
   "metadata": {},
   "outputs": [],
   "source": [
    "\n",
    "\n",
    "# Example: Compute embeddings\n",
    "movies = [\n",
    "    {\"id\": 1, \"tagline\": \"In space, no one can hear you scream.\", \"movie\": \"Alien\"},\n",
    "    {\"id\": 2, \"tagline\": \"Just when you thought it was safe to go back in the water...\", \"movie\": \"Jaws 2\"},\n",
    "    {\"id\": 3, \"tagline\": \"May the Force be with you.\", \"movie\": \"Star Wars\"},\n",
    "    {\"id\": 4, \"tagline\": \"I'm going to make him an offer he can't refuse.\", \"movie\": \"The Godfather\"},\n",
    "    {\"id\": 5, \"tagline\": \"You don't get to 500 million friends without making a few enemies.\", \"movie\": \"The Social Network\"},\n",
    "    {\"id\": 6, \"tagline\": \"They're here!\", \"movie\": \"Poltergeist\"},\n",
    "    {\"id\": 7, \"tagline\": \"There's no place like home.\", \"movie\": \"The Wizard of Oz\"},\n",
    "    {\"id\": 8, \"tagline\": \"The list is life.\", \"movie\": \"Schindler's List\"},\n",
    "    {\"id\": 9, \"tagline\": \"One ring to rule them all.\", \"movie\": \"The Lord of the Rings: The Fellowship of the Ring\"},\n",
    "    {\"id\": 10, \"tagline\": \"Houston, we have a problem.\", \"movie\": \"Apollo 13\"},\n",
    "    {\"id\": 11, \"tagline\": \"Life is like a box of chocolates, you never know what you're gonna get.\", \"movie\": \"Forrest Gump\"}\n",
    "]\n",
    "\n",
    "embeddings = {movie['id']: get_embedding(movie['tagline']) for movie in movies}\n"
   ]
  },
  {
   "cell_type": "code",
   "execution_count": 24,
   "metadata": {},
   "outputs": [],
   "source": [
    "# Insert movies into the database\n",
    "insert_movies(graph, movies)\n",
    "\n",
    "# Update movies with embeddings\n",
    "update_movie_embeddings(graph, movies, embeddings)"
   ]
  },
  {
   "cell_type": "code",
   "execution_count": 30,
   "metadata": {},
   "outputs": [],
   "source": [
    "insert_with_embedding(graph, movies, embeddings)\n"
   ]
  },
  {
   "cell_type": "code",
   "execution_count": 31,
   "metadata": {},
   "outputs": [
    {
     "data": {
      "text/plain": [
       "1536"
      ]
     },
     "execution_count": 31,
     "metadata": {},
     "output_type": "execute_result"
    }
   ],
   "source": [
    "\n",
    "result = graph.query(\"\"\"\n",
    "    MATCH (m:Movie) \n",
    "    WHERE m.tagline IS NOT NULL\n",
    "    RETURN m.tagline, m.taglineEmbedding\n",
    "    LIMIT 1\n",
    "    \"\"\"\n",
    ")\n",
    "len(result[0]['m.taglineEmbedding'])"
   ]
  },
  {
   "cell_type": "code",
   "execution_count": 33,
   "metadata": {},
   "outputs": [
    {
     "data": {
      "text/plain": [
       "[-0.00023695807612966746,\n",
       " -0.01833418942987919,\n",
       " 0.008368588984012604,\n",
       " -0.02801685407757759,\n",
       " -0.003904503071680665,\n",
       " -0.004784745629876852,\n",
       " -0.03178932145237923,\n",
       " -0.0275641568005085,\n",
       " 0.0010578625369817019,\n",
       " 0.0014193906681612134]"
      ]
     },
     "execution_count": 33,
     "metadata": {},
     "output_type": "execute_result"
    }
   ],
   "source": [
    "result[0]['m.taglineEmbedding'][:10]\n"
   ]
  },
  {
   "cell_type": "code",
   "execution_count": 46,
   "metadata": {},
   "outputs": [
    {
     "name": "stdout",
     "output_type": "stream",
     "text": [
      "{'movie.title': 'Alien', 'movie.tagline': 'In space, no one can hear you scream.', 'score': 0.8898844718933105}\n",
      "{'movie.title': 'Star Wars', 'movie.tagline': 'May the Force be with you.', 'score': 0.8880136013031006}\n",
      "{'movie.title': 'Apollo 13', 'movie.tagline': 'Houston, we have a problem.', 'score': 0.8795080184936523}\n",
      "{'movie.title': 'The Lord of the Rings: The Fellowship of the Ring', 'movie.tagline': 'One ring to rule them all.', 'score': 0.8777306079864502}\n",
      "{'movie.title': 'Poltergeist', 'movie.tagline': \"They're here!\", 'score': 0.8709970116615295}\n"
     ]
    }
   ],
   "source": [
    "question = \"What movie involves space travel and aliens?\"\n",
    "question_embedding = get_embedding(question)\n",
    "top_k = 5\n",
    "results = search_movies_by_embedding(graph, question_embedding, top_k)\n",
    "\n",
    "# Display results\n",
    "for result in results:\n",
    "    print(result)"
   ]
  }
 ],
 "metadata": {
  "kernelspec": {
   "display_name": "sdk",
   "language": "python",
   "name": "python3"
  },
  "language_info": {
   "codemirror_mode": {
    "name": "ipython",
    "version": 3
   },
   "file_extension": ".py",
   "mimetype": "text/x-python",
   "name": "python",
   "nbconvert_exporter": "python",
   "pygments_lexer": "ipython3",
   "version": "3.10.13"
  }
 },
 "nbformat": 4,
 "nbformat_minor": 2
}
